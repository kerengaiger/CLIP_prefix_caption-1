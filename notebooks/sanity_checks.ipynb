{
 "cells": [
  {
   "cell_type": "code",
   "execution_count": 1,
   "id": "567650c3-bb3a-4617-899b-29756ca54653",
   "metadata": {},
   "outputs": [],
   "source": [
    "import glob\n",
    "import clip\n",
    "import os\n",
    "from torch import nn\n",
    "import numpy as np\n",
    "import pandas as pd\n",
    "import torch\n",
    "import torch.nn.functional as nnf\n",
    "import sys\n",
    "from typing import Tuple, List, Union, Optional\n",
    "from transformers import GPT2Tokenizer, GPT2LMHeadModel, AdamW, get_linear_schedule_with_warmup\n",
    "from tqdm import tqdm, trange\n",
    "# from google.colab import files\n",
    "import skimage.io as io\n",
    "import PIL.Image\n",
    "from IPython.display import Image\n",
    "from tqdm import tqdm\n",
    "from sklearn.metrics.pairwise import cosine_similarity\n",
    "from sklearn.cluster import KMeans\n",
    "from sklearn.manifold import TSNE\n",
    "import matplotlib.pyplot as plt\n",
    "\n",
    "import requests\n",
    "\n",
    "from clip_prefix_captioning import MLP, ClipCaptionModel, ClipCaptionPrefix, generate_beam, generate2\n",
    "from nltk.sentiment import SentimentIntensityAnalyzer"
   ]
  },
  {
   "cell_type": "code",
   "execution_count": 8,
   "id": "e36a470b-b387-4a1b-9e75-cb2ac62770f6",
   "metadata": {},
   "outputs": [
    {
     "name": "stderr",
     "output_type": "stream",
     "text": [
      "/var/folders/lm/r78yjp1d4094sfws8gn69l6w0000gq/T/ipykernel_4111/1999909185.py:3: FutureWarning: Passing a negative integer is deprecated in version 1.0 and will not be supported in future version. Instead, use None to not limit the column width.\n",
      "  pd.set_option('display.max_colwidth', -1)  # or 199\n"
     ]
    }
   ],
   "source": [
    "pd.set_option('display.max_columns', None)  # or 1000\n",
    "pd.set_option('display.max_rows', None)  # or 1000\n",
    "pd.set_option('display.max_colwidth', -1)  # or 199"
   ]
  },
  {
   "cell_type": "code",
   "execution_count": 14,
   "id": "80bbb54c-d05a-4914-acd8-e3e06117b65f",
   "metadata": {},
   "outputs": [],
   "source": [
    "D = torch.device\n",
    "CPU = torch.device('cpu')\n",
    "\n",
    "is_gpu = True\n",
    "\n",
    "def get_device(device_id: int) -> D:\n",
    "    if not torch.cuda.is_available():\n",
    "        return CPU\n",
    "    device_id = min(torch.cuda.device_count() - 1, device_id)\n",
    "    return torch.device(f'cuda:{device_id}')\n",
    "\n",
    "\n",
    "CUDA = get_device\n",
    "\n",
    "current_directory = os.getcwd()\n",
    "save_path = os.path.join(os.path.dirname(current_directory), \"pretrained_models\")\n",
    "os.makedirs(save_path, exist_ok=True)\n",
    "model_path = os.path.join(save_path, 'model_weights.pt')\n",
    "\n",
    "device = CUDA(0) if is_gpu else \"cpu\"\n",
    "clip_model, preprocess = clip.load(\"ViT-B/32\", device=device, jit=False)\n",
    "tokenizer = GPT2Tokenizer.from_pretrained(\"gpt2\")\n",
    "\n",
    "prefix_length = 10\n",
    "\n",
    "model = ClipCaptionModel(prefix_length)\n",
    "\n",
    "model.load_state_dict(torch.load(model_path, map_location=CPU)) \n",
    "\n",
    "model = model.eval() \n",
    "device = CUDA(0) if is_gpu else \"cpu\"\n",
    "model = model.to(device)"
   ]
  },
  {
   "cell_type": "code",
   "execution_count": 15,
   "id": "da697e46-23f3-4dd4-b3a4-ead9cc748005",
   "metadata": {},
   "outputs": [],
   "source": [
    "def generate_caption(input_img, use_clip_emb=False, display_img=False, use_beam_search=False, return_all_beam=False, return_clip_emb=False):\n",
    "    if use_clip_emb:\n",
    "        prefix = input_img\n",
    "        with torch.no_grad():\n",
    "            prefix_embed = model.clip_project(prefix).reshape(1, prefix_length, -1)\n",
    "    else:\n",
    "        image = io.imread(input_img)\n",
    "        pil_image = PIL.Image.fromarray(image)\n",
    "        if display_img:\n",
    "            display(pil_image.resize((512, 512)))\n",
    "        image = preprocess(pil_image).unsqueeze(0).to(device)\n",
    "        with torch.no_grad():\n",
    "            prefix = clip_model.encode_image(image).to(device, dtype=torch.float32)\n",
    "            prefix_embed = model.clip_project(prefix).reshape(1, prefix_length, -1)\n",
    "    if use_beam_search:\n",
    "        if return_all_beam:\n",
    "            generated_text_prefix = generate_beam(model, tokenizer, embed=prefix_embed)\n",
    "        else:\n",
    "            generated_text_prefix = generate_beam(model, tokenizer, embed=prefix_embed)[0]\n",
    "    else:\n",
    "        generated_text_prefix = generate2(model, tokenizer, embed=prefix_embed)\n",
    "\n",
    "    if return_clip_emb:\n",
    "        return generated_text_prefix, prefix\n",
    "    else:\n",
    "        return generated_text_prefix"
   ]
  },
  {
   "cell_type": "code",
   "execution_count": 2,
   "id": "9c31ae91-6afb-46b3-8d00-e734a5e27773",
   "metadata": {},
   "outputs": [],
   "source": [
    "flickr_data = pd.read_pickle('flickr_data_all.pkl')"
   ]
  },
  {
   "cell_type": "code",
   "execution_count": 3,
   "id": "b091bd6b-6980-4de7-8579-20e17220cd1c",
   "metadata": {},
   "outputs": [],
   "source": [
    "flickr_data = flickr_data[flickr_data['clip_emb'].notnull()]\n",
    "flickr_data['clip_emb'] = flickr_data.apply(lambda row: np.frombuffer(row['clip_emb'], dtype='float32'), axis=1)"
   ]
  },
  {
   "cell_type": "code",
   "execution_count": 4,
   "id": "d7490021-fdfa-42f6-896a-69981d66c2b9",
   "metadata": {},
   "outputs": [],
   "source": [
    "flickr_data = flickr_data[flickr_data['style_emb'].notnull()]\n",
    "flickr_data['style_emb'] = flickr_data.apply(lambda row: np.frombuffer(row['style_emb'], dtype='float32'), axis=1)"
   ]
  },
  {
   "cell_type": "code",
   "execution_count": 5,
   "id": "6881a950-e5e1-4620-bd53-dca2f70edcb4",
   "metadata": {},
   "outputs": [],
   "source": [
    "flickr_data = flickr_data[flickr_data['caption_emb'].notnull()]\n",
    "flickr_data['caption_emb'] = flickr_data.apply(lambda row: np.frombuffer(row['caption_emb'], dtype='float32'), axis=1)"
   ]
  },
  {
   "cell_type": "markdown",
   "id": "f4beba12-b412-45a2-a164-c7ec55254abb",
   "metadata": {},
   "source": [
    "# Captioning the style embedding"
   ]
  },
  {
   "cell_type": "code",
   "execution_count": 22,
   "id": "339e6201-3039-4945-8090-f995d444d1d1",
   "metadata": {},
   "outputs": [
    {
     "data": {
      "text/plain": [
       "['A couple of men standing next to each other on a street.',\n",
       " 'A couple of men standing next to each other.',\n",
       " 'A couple of men standing next to each other on a  street.',\n",
       " 'A couple of men standing next to each other on a road.',\n",
       " 'A couple of men standing next to each other near a motorcycle.']"
      ]
     },
     "execution_count": 22,
     "metadata": {},
     "output_type": "execute_result"
    }
   ],
   "source": [
    "index= 7\n",
    "generate_caption(torch.from_numpy(flickr_data.loc[index,'style_emb']), use_clip_emb=True, display_img=False, use_beam_search=True, return_all_beam=True, return_clip_emb=False)"
   ]
  },
  {
   "cell_type": "code",
   "execution_count": 23,
   "id": "a48093c0-2a6c-433c-a3b0-635925e40f1d",
   "metadata": {},
   "outputs": [
    {
     "data": {
      "text/plain": [
       "Unnamed: 0     13292286774                                                                                                                                                                                                                                                                                                                                                                                                                                                                                                                                                                                                                                                                                                                                                                                                                                                                                                                                                                                                                                                                                                                                                                                                                                                                                    \n",
       "image_url      http://farm4.staticflickr.com/3784/13292286774_21661cb303.jpg                                                                                                                                                                                                                                                                                                                                                                                                                                                                                                                                                                                                                                                                                                                                                                                                                                                                                                                                                                                                                                                                                                                                                                                                                                  \n",
       "page_url       http://www.flickr.com/photos/48610601@N07/13292286774                                                                                                                                                                                                                                                                                                                                                                                                                                                                                                                                                                                                                                                                                                                                                                                                                                                                                                                                                                                                                                                                                                                                                                                                                                          \n",
       "label          0                                                                                                                                                                                                                                                                                                                                                                                                                                                                                                                                                                                                                                                                                                                                                                                                                                                                                                                                                                                                                                                                                                                                                                                                                                                                                              \n",
       "_split         train                                                                                                                                                                                                                                                                                                                                                                                                                                                                                                                                                                                                                                                                                                                                                                                                                                                                                                                                                                                                                                                                                                                                                                                                                                                                                          \n",
       "clip_emb       [0.032958984, -0.021636963, -0.46069336, -0.14050293, 0.08630371, 0.09790039, 0.12023926, 0.13330078, -0.07348633, 0.019607544, 0.64746094, 0.47094727, 0.52001953, -0.23620605, 0.27514648, 0.026306152, 1.875, 0.049743652, 0.3149414, -0.25634766, 0.78271484, -0.26171875, 0.47436523, -0.47851562, 0.42871094, 0.3466797, 0.08026123, -0.41577148, 0.18713379, 0.0022087097, -0.05609131, 0.1418457, 0.02293396, 0.32714844, -0.34643555, 0.4206543, -0.44873047, -0.076049805, 0.2331543, 1.8203125, -0.3017578, 0.17456055, -0.16894531, -0.56933594, 0.47436523, -1.4179688, 0.048553467, 0.03353882, -0.24707031, 0.037017822, -0.24145508, -0.43554688, -0.03527832, 0.07989502, -0.46899414, -0.8466797, -0.23803711, -0.3330078, 0.00056123734, -0.20092773, 0.5214844, -0.012054443, -0.018463135, -0.17785645, -0.31933594, 0.35668945, 0.19970703, -0.23303223, 0.4501953, 0.28393555, 0.4333496, -0.41088867, 0.16674805, -0.39453125, 0.5678711, 0.46972656, 0.14892578, 0.20544434, 0.5083008, -0.64160156, 0.12121582, 0.08862305, -0.22302246, -0.23510742, 0.35986328, 0.15881348, 0.1796875, 0.20617676, 0.5913086, -0.52197266, -0.052612305, -0.087890625, -5.8828125, 0.20324707, -0.057250977, 0.19970703, -0.0826416, -0.10394287, 0.60498047, 0.13012695, ...]     \n",
       "caption_emb    [0.33642578, 0.06951904, -0.19238281, -0.08392334, -0.3395996, 0.020568848, -0.08465576, 0.014564514, -0.84277344, -0.1739502, 0.50878906, -0.120788574, 0.28759766, 0.120788574, 0.5366211, 0.06329346, 0.4580078, 0.054595947, 0.09301758, 0.022857666, 0.37329102, 0.076293945, 0.06713867, -0.3552246, -0.38110352, 0.121520996, -0.3671875, -0.18127441, 0.328125, -0.30786133, 0.087402344, -0.0703125, 0.29589844, 0.14147949, -1.2373047, 0.066101074, -0.08526611, -0.2541504, 0.44677734, 0.19873047, -0.20153809, 0.3605957, -0.34399414, 0.030670166, 0.3564453, -0.07110596, 0.19897461, 0.34594727, -0.28735352, -0.0024929047, -0.14221191, -0.08856201, -0.07299805, 0.16345215, -0.49169922, -0.12915039, 0.015777588, -0.1508789, -0.5053711, -0.63427734, 0.1574707, -0.14587402, -0.16760254, 0.4440918, -0.42260742, 0.23779297, 0.27807617, 0.23291016, 0.5029297, -0.24987793, 0.15466309, -0.50634766, 0.41625977, 0.2401123, 0.07623291, -0.13574219, 0.21655273, 0.0024223328, 0.20495605, 0.0859375, 0.14465332, 0.0670166, -0.2199707, -0.20361328, 0.1328125, 0.07434082, 0.025970459, -0.05130005, 0.21142578, 0.07751465, 0.28515625, -0.04425049, -0.4272461, 0.4194336, 0.11816406, 0.09814453, -0.108947754, 0.1237793, 0.3347168, 0.0519104, ...]           \n",
       "style_emb      [-0.3034668, -0.091156006, -0.26831055, -0.05657959, 0.42590332, 0.07733154, 0.20489502, 0.11873627, 0.7692871, 0.19355774, 0.13867188, 0.59173584, 0.23242188, -0.35699463, -0.2614746, -0.036987305, 1.4169922, -0.004852295, 0.22192383, -0.27920532, 0.40942383, -0.3380127, 0.40722656, -0.123291016, 0.80981445, 0.22515869, 0.44744873, -0.23449707, -0.14099121, 0.31007004, -0.14349365, 0.2121582, -0.27296448, 0.18566895, 0.89086914, 0.35455322, -0.36346436, 0.17810059, -0.21362305, 1.621582, -0.10021973, -0.18603516, 0.17504883, -0.6000061, 0.11791992, -1.3468628, -0.15042114, -0.31240845, 0.040283203, 0.039510727, -0.099243164, -0.34698486, 0.037719727, -0.08355713, 0.022705078, -0.7175293, -0.2538147, -0.1821289, 0.50593233, 0.4333496, 0.36401367, 0.13381958, 0.1491394, -0.62194824, 0.103271484, 0.118896484, -0.07836914, -0.46594238, -0.052734375, 0.5338135, 0.27868652, 0.095458984, -0.24951172, -0.63464355, 0.49163818, 0.60546875, -0.06762695, 0.203022, 0.30334473, -0.72753906, -0.0234375, 0.021606445, -0.0030517578, -0.03149414, 0.22705078, 0.084472656, 0.15371704, 0.2574768, 0.3798828, -0.5994873, -0.33776855, -0.043640137, -5.4555664, -0.21618652, -0.17541504, 0.1015625, 0.026306152, -0.22772217, 0.27026367, 0.07821655, ...]\n",
       "caption        An old style car is on display in a museum.                                                                                                                                                                                                                                                                                                                                                                                                                                                                                                                                                                                                                                                                                                                                                                                                                                                                                                                                                                                                                                                                                                                                                                                                                                                    \n",
       "neu_score      1.0                                                                                                                                                                                                                                                                                                                                                                                                                                                                                                                                                                                                                                                                                                                                                                                                                                                                                                                                                                                                                                                                                                                                                                                                                                                                                            \n",
       "Name: 7, dtype: object"
      ]
     },
     "execution_count": 23,
     "metadata": {},
     "output_type": "execute_result"
    }
   ],
   "source": [
    "flickr_data.loc[index]"
   ]
  }
 ],
 "metadata": {
  "kernelspec": {
   "display_name": "Python 3 (ipykernel)",
   "language": "python",
   "name": "python3"
  },
  "language_info": {
   "codemirror_mode": {
    "name": "ipython",
    "version": 3
   },
   "file_extension": ".py",
   "mimetype": "text/x-python",
   "name": "python",
   "nbconvert_exporter": "python",
   "pygments_lexer": "ipython3",
   "version": "3.9.7"
  }
 },
 "nbformat": 4,
 "nbformat_minor": 5
}
