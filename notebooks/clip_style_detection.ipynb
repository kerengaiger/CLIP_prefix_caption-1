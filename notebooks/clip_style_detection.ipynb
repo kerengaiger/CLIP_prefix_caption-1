{
 "cells": [
  {
   "cell_type": "code",
   "execution_count": 3,
   "id": "0c3f9f6a-a14c-4462-8c19-b89409041840",
   "metadata": {},
   "outputs": [],
   "source": [
    "import glob\n",
    "import clip\n",
    "import os\n",
    "from torch import nn\n",
    "import numpy as np\n",
    "import pandas as pd\n",
    "import torch\n",
    "import torch.nn.functional as nnf\n",
    "import sys\n",
    "from typing import Tuple, List, Union, Optional\n",
    "from transformers import GPT2Tokenizer, GPT2LMHeadModel, AdamW, get_linear_schedule_with_warmup\n",
    "from tqdm import tqdm, trange\n",
    "# from google.colab import files\n",
    "import skimage.io as io\n",
    "import PIL.Image\n",
    "from IPython.display import Image\n",
    "from tqdm import tqdm\n",
    "from sklearn.metrics.pairwise import cosine_similarity\n",
    "from sklearn.cluster import KMeans\n",
    "from sklearn.manifold import TSNE\n",
    "import matplotlib.pyplot as plt\n",
    "\n",
    "import requests\n",
    "\n",
    "from clip_prefix_captioning import MLP, ClipCaptionModel, ClipCaptionPrefix, generate_beam, generate2\n",
    "from nltk.sentiment import SentimentIntensityAnalyzer"
   ]
  },
  {
   "cell_type": "code",
   "execution_count": 4,
   "id": "a8197840-8db7-4bd8-9419-974d90dd7294",
   "metadata": {},
   "outputs": [],
   "source": [
    "D = torch.device\n",
    "CPU = torch.device('cpu')\n",
    "\n",
    "is_gpu = True\n",
    "\n",
    "def get_device(device_id: int) -> D:\n",
    "    if not torch.cuda.is_available():\n",
    "        return CPU\n",
    "    device_id = min(torch.cuda.device_count() - 1, device_id)\n",
    "    return torch.device(f'cuda:{device_id}')\n",
    "\n",
    "\n",
    "CUDA = get_device"
   ]
  },
  {
   "cell_type": "code",
   "execution_count": 5,
   "id": "7c1e1640-425d-45cd-96bd-dc79251ceac8",
   "metadata": {},
   "outputs": [],
   "source": [
    "current_directory = os.getcwd()\n",
    "save_path = os.path.join(os.path.dirname(current_directory), \"pretrained_models\")\n",
    "os.makedirs(save_path, exist_ok=True)\n",
    "model_path = os.path.join(save_path, 'model_weights.pt')"
   ]
  },
  {
   "cell_type": "code",
   "execution_count": 6,
   "id": "cd73279d-ebbc-4d49-8013-583b063161df",
   "metadata": {
    "cellView": "form",
    "colab": {
     "base_uri": "https://localhost:8080/",
     "height": 162
    },
    "id": "6bi_2zQ3QD57",
    "outputId": "47afad0d-a76c-4316-8f6d-682dd3e49587"
   },
   "outputs": [],
   "source": [
    "device = CUDA(0) if is_gpu else \"cpu\"\n",
    "clip_model, preprocess = clip.load(\"ViT-B/32\", device=device, jit=False)\n",
    "tokenizer = GPT2Tokenizer.from_pretrained(\"gpt2\")"
   ]
  },
  {
   "cell_type": "code",
   "execution_count": 7,
   "id": "f4ff1dd8-81f8-416a-979a-45399e15f21c",
   "metadata": {},
   "outputs": [],
   "source": [
    "prefix_length = 10\n",
    "\n",
    "model = ClipCaptionModel(prefix_length)\n",
    "\n",
    "model.load_state_dict(torch.load(model_path, map_location=CPU)) \n",
    "\n",
    "model = model.eval() \n",
    "device = CUDA(0) if is_gpu else \"cpu\"\n",
    "model = model.to(device)"
   ]
  },
  {
   "cell_type": "code",
   "execution_count": 8,
   "id": "4d437e24-3d00-4391-820e-c5c98066d417",
   "metadata": {},
   "outputs": [],
   "source": [
    "def generate_caption(img_file, display_img=False, use_beam_search=False, return_all_beam=False, return_clip_emb=False):\n",
    "    image = io.imread(img_file)\n",
    "    pil_image = PIL.Image.fromarray(image)\n",
    "    if display_img:\n",
    "        display(pil_image.resize((512, 512)))\n",
    "    image = preprocess(pil_image).unsqueeze(0).to(device)\n",
    "    with torch.no_grad():\n",
    "        prefix = clip_model.encode_image(image).to(device, dtype=torch.float32)\n",
    "        prefix_embed = model.clip_project(prefix).reshape(1, prefix_length, -1)\n",
    "    if use_beam_search:\n",
    "        if return_all_beam:\n",
    "            generated_text_prefix = generate_beam(model, tokenizer, embed=prefix_embed)\n",
    "        else:\n",
    "            generated_text_prefix = generate_beam(model, tokenizer, embed=prefix_embed)[0]\n",
    "    else:\n",
    "        generated_text_prefix = generate2(model, tokenizer, embed=prefix_embed)\n",
    "\n",
    "    if return_clip_emb:\n",
    "        return generated_text_prefix, prefix\n",
    "    else:\n",
    "        return generated_text_prefix"
   ]
  },
  {
   "cell_type": "code",
   "execution_count": 9,
   "id": "8c3ef431-52a9-42ee-913c-a362ac11cdd2",
   "metadata": {},
   "outputs": [],
   "source": [
    "def clip_encode_caption(caption):\n",
    "    with torch.no_grad():\n",
    "        caption_tokenized = clip.tokenize(caption, truncate=True).to(device)\n",
    "        clip_caption_rep = clip_model.encode_text(caption_tokenized).to(device, dtype=torch.float32)\n",
    "    return clip_caption_rep"
   ]
  },
  {
   "cell_type": "code",
   "execution_count": 10,
   "id": "352735d7-3d9b-48be-a292-0bc683513de8",
   "metadata": {},
   "outputs": [],
   "source": [
    "def choose_best_caption(captions, img_clip_emb):\n",
    "    sia = SentimentIntensityAnalyzer()\n",
    "\n",
    "    captions_clip_embs = [clip_encode_caption(caption).squeeze(dim=0).cpu().numpy() for caption in captions]\n",
    "    emb_mtx = np.stack(np.array([img_clip_emb] + captions_clip_embs))\n",
    "\n",
    "    semantic_sim_scores = cosine_similarity(emb_mtx)[0,1:]\n",
    "    polairty_scores = np.array([sia.polarity_scores(caption)['neu'] for caption in captions])\n",
    "    length_scores = np.array([len(caption.split(' ')) for caption in captions])\n",
    "    winner = np.argmax(semantic_sim_scores + polairty_scores + length_scores)\n",
    "\n",
    "    return captions[winner], captions_clip_embs[winner], polairty_scores[winner]"
   ]
  },
  {
   "cell_type": "code",
   "execution_count": 11,
   "id": "c6f24a60-a30e-4183-a7ca-8b2380fccf02",
   "metadata": {},
   "outputs": [],
   "source": [
    "def find_most_sim_emb(input_emb_idx, sim_mtx):\n",
    "    sim_mtx[input_emb_idx,input_emb_idx] = -1\n",
    "    idx_most_sim = sim_mtx[input_emb_idx].argmax()\n",
    "    return idx_most_sim"
   ]
  },
  {
   "cell_type": "markdown",
   "id": "f7ca92f1-783f-4a50-bad8-17aee522cf0f",
   "metadata": {},
   "source": [
    "# Download Unsplash Dataset"
   ]
  },
  {
   "cell_type": "code",
   "execution_count": 12,
   "id": "d3a330ec-2054-4b0e-af96-ea92c79e1951",
   "metadata": {},
   "outputs": [
    {
     "name": "stdout",
     "output_type": "stream",
     "text": [
      "['/Users/kgaiger/PycharmProjects/clip_new/CLIP_prefix_caption-1/data/unsplash-research-dataset-lite-latest/photos.tsv000']\n",
      "['/Users/kgaiger/PycharmProjects/clip_new/CLIP_prefix_caption-1/data/unsplash-research-dataset-lite-latest/keywords.tsv000']\n",
      "['/Users/kgaiger/PycharmProjects/clip_new/CLIP_prefix_caption-1/data/unsplash-research-dataset-lite-latest/collections.tsv000']\n",
      "['/Users/kgaiger/PycharmProjects/clip_new/CLIP_prefix_caption-1/data/unsplash-research-dataset-lite-latest/conversions.tsv000']\n",
      "['/Users/kgaiger/PycharmProjects/clip_new/CLIP_prefix_caption-1/data/unsplash-research-dataset-lite-latest/colors.tsv000']\n"
     ]
    }
   ],
   "source": [
    "data_files_path = os.path.join(os.path.dirname(current_directory), \"data\", \"unsplash-research-dataset-lite-latest\")\n",
    "documents = ['photos', 'keywords', 'collections', 'conversions', 'colors']\n",
    "datasets = {}\n",
    "\n",
    "for doc in documents:\n",
    "    files = glob.glob(data_files_path + '/' + doc + \".tsv*\")\n",
    "    print(files)\n",
    "    subsets = []\n",
    "    for filename in files:\n",
    "        df = pd.read_csv(filename, sep='\\t', header=0)\n",
    "        subsets.append(df)\n",
    "\n",
    "    datasets[doc] = pd.concat(subsets, axis=0, ignore_index=True)"
   ]
  },
  {
   "cell_type": "code",
   "execution_count": 13,
   "id": "622be0e1-d5ae-4770-931d-c2bd0ecf34dd",
   "metadata": {},
   "outputs": [],
   "source": [
    "to_download = datasets['photos'].head(10000).index"
   ]
  },
  {
   "cell_type": "code",
   "execution_count": 14,
   "id": "7f169fd0-dca7-48a8-aa66-4d552de7539d",
   "metadata": {},
   "outputs": [],
   "source": [
    "imgs_path = os.path.join(os.path.dirname(current_directory), \"data\", \"unsplash-research-dataset-lite-latest\", \"images\")\n",
    "if not os.path.exists(imgs_path):\n",
    "    os.makedirs(imgs_path)"
   ]
  },
  {
   "cell_type": "code",
   "execution_count": null,
   "id": "1fc4c34a-4a1c-4d57-a37d-166780a86003",
   "metadata": {},
   "outputs": [],
   "source": [
    "for index in tqdm(to_download):\n",
    "    try:\n",
    "        response = requests.get(datasets['photos'].loc[index,'photo_image_url'])\n",
    "        file = open(f'{imgs_path}/{index}.png', \"wb\")\n",
    "        file.write(response.content)\n",
    "        file.close()\n",
    "    except:\n",
    "        print(f'index {index} failed!')"
   ]
  },
  {
   "cell_type": "markdown",
   "id": "a77e78ac-13e2-4d8e-bf96-4794c7dac00f",
   "metadata": {},
   "source": [
    "# Calculate CLIP and Style embeddings"
   ]
  },
  {
   "cell_type": "code",
   "execution_count": 15,
   "id": "1768cc11-5b22-41eb-a7fb-41f9582db2bb",
   "metadata": {},
   "outputs": [],
   "source": [
    "tested = datasets['photos'].loc[to_download]"
   ]
  },
  {
   "cell_type": "code",
   "execution_count": 16,
   "id": "8ef9369a-5fd2-402e-9df4-6adb5cc6f21c",
   "metadata": {},
   "outputs": [],
   "source": [
    "style_embs = {}\n",
    "clip_embs = {}\n",
    "caption_embs = {}\n",
    "\n",
    "for img_file in os.listdir(imgs_path)[:10]:\n",
    "    try:\n",
    "        captions, img_clip_emb = generate_caption(f'{imgs_path}/{img_file}', use_beam_search=True, return_all_beam=True, return_clip_emb=True)\n",
    "        img_clip_emb = img_clip_emb.squeeze(dim=0).cpu().numpy()\n",
    "        caption, caption_clip_emb, caption_neu_score = choose_best_caption(captions, img_clip_emb)\n",
    "        style = img_clip_emb - caption_clip_emb\n",
    "        index = int(img_file.replace('.png',''))\n",
    "        style_embs[index] = style\n",
    "        clip_embs[index] = img_clip_emb\n",
    "        caption_embs[index] = caption_clip_emb\n",
    "        tested.loc[index, 'caption'] = caption\n",
    "        tested.loc[index, 'neu_score'] = caption_neu_score\n",
    "    except:\n",
    "        continue"
   ]
  },
  {
   "cell_type": "code",
   "execution_count": 17,
   "id": "fdc2fb0e-0119-4e99-8f0a-fd8c43cf8999",
   "metadata": {},
   "outputs": [],
   "source": [
    "tested = tested.reset_index()"
   ]
  },
  {
   "cell_type": "code",
   "execution_count": 18,
   "id": "28ca9db9-b140-44ae-a652-730c315c8fe0",
   "metadata": {},
   "outputs": [],
   "source": [
    "tested['style_emb'] = tested['index'].map(style_embs)\n",
    "tested['clip_emb'] = tested['index'].map(clip_embs)\n",
    "tested['caption_emb'] = tested['index'].map(caption_embs)"
   ]
  },
  {
   "cell_type": "code",
   "execution_count": 19,
   "id": "c8fef410-dfbc-48f6-b122-40c88e85c339",
   "metadata": {},
   "outputs": [],
   "source": [
    "tested = tested[tested['style_emb'].notnull()]"
   ]
  },
  {
   "cell_type": "code",
   "execution_count": 20,
   "id": "f4b6cd1c-e5aa-4f43-aeca-b43f44561e16",
   "metadata": {},
   "outputs": [],
   "source": [
    "tested = tested.reset_index(drop=True)"
   ]
  },
  {
   "cell_type": "code",
   "execution_count": 21,
   "id": "c6ac85ce-f575-47a4-b0c6-74e1718b797a",
   "metadata": {},
   "outputs": [],
   "source": [
    "style_sims = cosine_similarity(np.stack(np.array(tested['style_emb'].tolist())))\n",
    "tested['most_sim_style'] =  tested.apply(lambda row: tested.loc[find_most_sim_emb(row.name, style_sims),\n",
    "                                                                'photo_url'], axis=1)\n",
    "clip_sims = cosine_similarity(np.stack(np.array(tested['clip_emb'].tolist())))\n",
    "tested['most_sim_clip'] = tested.apply(lambda row: tested.loc[find_most_sim_emb(row.name, clip_sims),\n",
    "                                                                'photo_url'], axis=1)"
   ]
  },
  {
   "cell_type": "markdown",
   "id": "b25d8847-d388-44a1-96e0-f86a78d2c28e",
   "metadata": {},
   "source": [
    "# Clustering"
   ]
  },
  {
   "cell_type": "code",
   "execution_count": 22,
   "id": "c0c503c3-b61e-44e8-a39d-7f9a96e47a24",
   "metadata": {},
   "outputs": [],
   "source": [
    "num_clusters = 3\n",
    "kmeans_style = KMeans(n_clusters=num_clusters, random_state=0).fit(np.stack(tested['style_emb'].values))\n",
    "kmens_clip = KMeans(n_clusters=num_clusters, random_state=0).fit(np.stack(tested['clip_emb'].values))"
   ]
  },
  {
   "cell_type": "code",
   "execution_count": 23,
   "id": "8784936c-3f2e-4814-baf1-ebd307cdc89e",
   "metadata": {},
   "outputs": [],
   "source": [
    "style_embedded = TSNE(n_components=2, learning_rate='auto',\n",
    "                  init='random').fit_transform(np.stack(tested['style_emb'].values))\n",
    "clip_embedded = TSNE(n_components=2, learning_rate='auto',\n",
    "                  init='random').fit_transform(np.stack(tested['clip_emb'].values))"
   ]
  },
  {
   "cell_type": "code",
   "execution_count": 24,
   "id": "ae70d62f-f4ac-4a2e-896d-42ca57854cee",
   "metadata": {},
   "outputs": [
    {
     "data": {
      "image/png": "[encoded data removed]",
      "text/plain": [
       "<Figure size 432x288 with 1 Axes>"
      ]
     },
     "metadata": {
      "needs_background": "light"
     },
     "output_type": "display_data"
    }
   ],
   "source": [
    "plt.scatter(style_embedded[:, 0], style_embedded[:, 1], c = kmeans_style.labels_)\n",
    "plt.show()"
   ]
  },
  {
   "cell_type": "code",
   "execution_count": 25,
   "id": "4a139f90-faae-4259-ae2a-48d63661ca55",
   "metadata": {},
   "outputs": [
    {
     "data": {
      "image/png": "[encoded data removed]",
      "text/plain": [
       "<Figure size 432x288 with 1 Axes>"
      ]
     },
     "metadata": {
      "needs_background": "light"
     },
     "output_type": "display_data"
    }
   ],
   "source": [
    "plt.scatter(clip_embedded[:, 0], clip_embedded[:, 1], c = kmeans_style.labels_)\n",
    "plt.show()"
   ]
  }
 ],
 "metadata": {
  "kernelspec": {
   "display_name": "Python 3 (ipykernel)",
   "language": "python",
   "name": "python3"
  },
  "language_info": {
   "codemirror_mode": {
    "name": "ipython",
    "version": 3
   },
   "file_extension": ".py",
   "mimetype": "text/x-python",
   "name": "python",
   "nbconvert_exporter": "python",
   "pygments_lexer": "ipython3",
   "version": "3.9.7"
  }
 },
 "nbformat": 4,
 "nbformat_minor": 5
}
